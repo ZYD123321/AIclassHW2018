{
 "cells": [
  {
   "cell_type": "markdown",
   "metadata": {},
   "source": [
    "# Introduction to Artificial Intelligence for Non Computing"
   ]
  },
  {
   "cell_type": "markdown",
   "metadata": {},
   "source": [
    "## Practical 3 (weeks 5 - 6)"
   ]
  },
  {
   "cell_type": "markdown",
   "metadata": {},
   "source": [
    "The following links provide additional information about data analysis , machine learning and Numpy"
   ]
  },
  {
   "cell_type": "markdown",
   "metadata": {},
   "source": [
    "Python data analysis: https://www.imooc.com/learn/843\n",
    "machine learning: https://www.imooc.com/learn/717\n",
    "Numpy :https://www.imooc.com/learn/943"
   ]
  },
  {
   "cell_type": "markdown",
   "metadata": {},
   "source": [
    "#### Theory Questions"
   ]
  },
  {
   "cell_type": "markdown",
   "metadata": {},
   "source": [
    "1\\.Which of the following are true and which are false? Give brief explanations.\n",
    "- a. In a fully observable, turn-taking, zero-sum game between two perfectly rational players,it does not help the first player to know what strategy the second player is using—that is, what move the second player will make, given the first player's move.\n",
    "- b. In a partially observable, turn-taking, zero-sum game between two perfectly rational players, it does not help the first player to know what move the second player will make, given the first player's move.\n",
    "- c. A perfectly rational backgammon agent never loses.\n",
    "\n",
    "See textbook Chapter6 24.6"
   ]
  },
  {
   "cell_type": "markdown",
   "metadata": {},
   "source": [
    "_your answer here..._ \n",
    "\n",
    "***\n",
    "a.True. The first player will play randomly when the second one has chance to make up his mind depend on the first player's move.\n",
    "\n",
    "b.False. The second player's decision could tell the first one the situation and what to do next.\n",
    "\n",
    "c.False. Their are several options for each step and each choice will change the state.Finally，there must be a winner and a loser."
   ]
  },
  {
   "cell_type": "markdown",
   "metadata": {},
   "source": [
    "2\\.Define in your own words the terms constraint, backtracking search, arc consistency,backjumping, min-conflicts, and cycle cutset.\n",
    "\n",
    "See textbook Chapter6 6.16"
   ]
  },
  {
   "cell_type": "markdown",
   "metadata": {},
   "source": [
    "_your answer here..._ \n",
    "\n",
    "***\n",
    "constraint:It's a rule that should be followed by the variables.\n",
    "\n",
    "backtracking search:It's a method belong to DFS that it will judge whether the node include the solution or it will backtrack to the father node layer by layer.\n",
    "\n",
    "arc consistency:A variable of a constraint satisfaction problem is arc-consistent with another one if each of its admissible values are consistent with some admissible value of the second variable.\n",
    "\n",
    "backjumping:It's a technique to reduce the search space of backtracking algorithm which can make it more efficient.\n",
    "\n",
    "min-conflicts:It's a search algorithm or heuristic method to solve constraint satisfaction problems (CSP).\n",
    "\n",
    "cycle cutset:It's a set of variables that when removed from the constraint graph make it acyclic (i.e., a tree). When the variables of a cycle cutset are instantiated the remainder of the CSP can be solved in linear time."
   ]
  },
  {
   "cell_type": "markdown",
   "metadata": {},
   "source": [
    "3\\.Explain why it is a good heuristic to choose the variable that is most constrained but the value that is least constraining in a CSP search.\n",
    "\n",
    "See textbook Chapter6 6.9/"
   ]
  },
  {
   "cell_type": "markdown",
   "metadata": {},
   "source": [
    "_your answer here..._ \n",
    "\n",
    "***\n",
    "Because it will be better to fail as early as possible with the most constrained variable. However, it provide more chances to avoid coflict for future tasks with the least constrained variables."
   ]
  },
  {
   "cell_type": "markdown",
   "metadata": {},
   "source": [
    "4\\.Consider the following procedure for choosing moves in games with chance nodes: \n",
    "- 1、Generate some dice-roll sequences (say, 50) down to a suitable depth (say, 8).\n",
    "- 2、With known dice rolls, the game tree becomes deterministic. For each dice-roll sequence,solve the resulting deterministic game tree using alpha-beta.\n",
    "- 3、Use the results to estimate the value of each move and to choose the best.Will this procedure work well? Why (or why not)?\n",
    "\n",
    "See textbook Chapter5 5.19"
   ]
  },
  {
   "cell_type": "markdown",
   "metadata": {},
   "source": [
    "_your answer here..._ \n",
    "\n",
    "***\n",
    "It won't work. Beacause it's a random sequence, but in a game, you must consider the reason and the result of the movement. "
   ]
  },
  {
   "cell_type": "markdown",
   "metadata": {},
   "source": [
    "5\\. Now,please consider this game:  there are three plates A, B and C, each plate has three bills. A puts 1, 20, 50; B puts 5, 10, 100; C puts 1, 5, 20. All units are \"Yuan\". There are two persons A and B, and two of them can check out three plates and banknotes .（ A is ourself, The other is B）\n",
    "The game is divided into three steps: \n",
    "- 1、A select a plate from three plate.\n",
    "- 2、B take out two banknotes from A selected plate,and give the  banknotes to A.  \n",
    "- 3、A take one of the two banknotes, and take it away.among,A want to get the max banknotes, B want to let A to get the min.\n",
    "\n",
    "Try to understand the minimax algorithm，you can click the link:https://blog.csdn.net/tangchenyi/article/details/22920031"
   ]
  },
  {
   "cell_type": "markdown",
   "metadata": {},
   "source": [
    "_your answer here..._ \n",
    "\n",
    "***"
   ]
  },
  {
   "cell_type": "markdown",
   "metadata": {},
   "source": [
    "### Programming Excercises"
   ]
  },
  {
   "cell_type": "markdown",
   "metadata": {},
   "source": [
    "1\\. Guess number(Single number): please generate a randomly number  with the function (random), then ask someone to guess the number,I think we should give the corresponding hint, otherwise it will be very difficult to guess the number.the game will be over untill you get the right number."
   ]
  },
  {
   "cell_type": "code",
   "execution_count": 7,
   "metadata": {},
   "outputs": [
    {
     "name": "stdout",
     "output_type": "stream",
     "text": [
      "Please guess which number I'm thinking?13\n",
      "No,it's too big!\n",
      "Come on, try another one!1\n",
      "No, it's too small.\n",
      "Come on, try another one!6\n",
      "No, it's too small.\n",
      "Come on, try another one!10\n",
      "No, it's too small.\n",
      "Come on, try another one!15\n",
      "No, it's too small.\n",
      "Come on, try another one!25\n",
      "No,it's too big!\n",
      "Come on, try another one!18\n",
      "No, it's too small.\n",
      "Come on, try another one!19\n",
      "No, it's too small.\n",
      "Come on, try another one!20\n",
      "No, it's too small.\n",
      "Come on, try another one!21\n",
      "That's right! Congratulations！\n"
     ]
    }
   ],
   "source": [
    "## write your answer here!\n",
    "import random\n",
    "num=eval(input(\"Please guess which number I'm thinking?\"))\n",
    "ans=random.randint(0,num+num)\n",
    "\n",
    "if num <0:\n",
    "    print(\"No No No,a positive number please :(\")\n",
    "\n",
    "while num != ans:\n",
    "    if temp < ans:\n",
    "        print(\"No, it's too small.\")\n",
    "        temp = eval(input(\"Come on, try another one!\"))\n",
    "    if temp > ans:\n",
    "        print(\"No,it's too big!\")\n",
    "        temp = eval(input(\"Come on, try another one!\"))\n",
    "    if temp == ans:\n",
    "        print(\"That's right! Congratulations！\")\n",
    "        break"
   ]
  },
  {
   "cell_type": "markdown",
   "metadata": {},
   "source": [
    "2\\.if you had understand the guess single number games,Congratulates,next is the guess three number games,Maybe you can do it well.But this is a different way of thinking. \n",
    "first : we need generate three numbers,there are most ten times chances give  you to guess the number,of course,we also give you some cue.\n",
    "\n",
    "- 'When I say:-->It means:\n",
    "- 'error--> The 3 numbers are not in the mystical numbers.'\n",
    "- 'Only the number is correct --> the number is right , but the position is not right.'\n",
    "- 'Absolutely right--> numbers is right and the position also right.'\n",
    "\n",
    "Maybe it's better for you to understand the rule well through see the picture.\n",
    "<div style=\"float:left;\" ><img src=\"img/p1.png\" width=\"400\" height=\"300\" >"
   ]
  },
  {
   "cell_type": "code",
   "execution_count": 16,
   "metadata": {},
   "outputs": [
    {
     "name": "stdout",
     "output_type": "stream",
     "text": [
      "The clue I gave is:\n",
      "When I say:                     It means:\n",
      "‘error’                           The 3 numbers are not in the mystical numbers.\n",
      "‘Only the number is correct’      the number is right , but the position is not right..\n",
      "‘Absolutely right’                numbers is right and the position also right.\n",
      "The 1 time:1\n",
      "The 1 time:2\n",
      "The 1 time:3\n"
     ]
    },
    {
     "ename": "IndexError",
     "evalue": "list index out of range",
     "output_type": "error",
     "traceback": [
      "\u001b[1;31m---------------------------------------------------------------------------\u001b[0m",
      "\u001b[1;31mIndexError\u001b[0m                                Traceback (most recent call last)",
      "\u001b[1;32m<ipython-input-16-97ec146b8b50>\u001b[0m in \u001b[0;36m<module>\u001b[1;34m()\u001b[0m\n\u001b[0;32m     20\u001b[0m \u001b[1;33m\u001b[0m\u001b[0m\n\u001b[0;32m     21\u001b[0m     \u001b[1;32mfor\u001b[0m \u001b[0mi\u001b[0m \u001b[1;32min\u001b[0m \u001b[0mrange\u001b[0m\u001b[1;33m(\u001b[0m\u001b[0mlen\u001b[0m\u001b[1;33m(\u001b[0m\u001b[0ml\u001b[0m\u001b[1;33m)\u001b[0m\u001b[1;33m)\u001b[0m\u001b[1;33m:\u001b[0m\u001b[1;33m\u001b[0m\u001b[0m\n\u001b[1;32m---> 22\u001b[1;33m         \u001b[1;32mif\u001b[0m \u001b[0ml\u001b[0m\u001b[1;33m[\u001b[0m\u001b[0mi\u001b[0m\u001b[1;33m]\u001b[0m\u001b[1;33m==\u001b[0m\u001b[0mnum\u001b[0m\u001b[1;33m[\u001b[0m\u001b[0mi\u001b[0m\u001b[1;33m]\u001b[0m\u001b[1;33m:\u001b[0m\u001b[1;33m\u001b[0m\u001b[0m\n\u001b[0m\u001b[0;32m     23\u001b[0m             \u001b[0mprint\u001b[0m\u001b[1;33m(\u001b[0m\u001b[1;34m\"Absolutely right\"\u001b[0m\u001b[1;33m)\u001b[0m\u001b[1;33m\u001b[0m\u001b[0m\n",
      "\u001b[1;31mIndexError\u001b[0m: list index out of range"
     ]
    }
   ],
   "source": [
    "## write your answer here!\n",
    "import random\n",
    "\n",
    "print('The clue I gave is:')\n",
    "print('When I say:                     It means:')\n",
    "print('‘error’                           The 3 numbers are not in the mystical numbers.')\n",
    "print('‘Only the number is correct’      the number is right , but the position is not right..')\n",
    "print('‘Absolutely right’                numbers is right and the position also right.')\n",
    "\n",
    "num=[]\n",
    "for i in range(0,2):\n",
    "    num.append(random.randint(0,10))\n",
    "\n",
    "count=1\n",
    "l=[]\n",
    "while count!=10:\n",
    "    line=input(\"The %s time:\"%count)\n",
    "    for i in line:\n",
    "        l.append(int(i))\n",
    "    \n",
    "    for i in range(len(l)):\n",
    "        if l[i]==num[i]:\n",
    "            print(\"Absolutely right\")"
   ]
  },
  {
   "cell_type": "markdown",
   "metadata": {},
   "source": [
    "3\\.please try using Python's Tkinter to make a visual interface（GUI）.if you don't know anything.Maybe you can refer to the below interface.and implement it by code.\n",
    "\n",
    "<div style=\"float:left;\" ><img src=\"img/p2.png\" width=\"200\" height=\"200\" >"
   ]
  },
  {
   "cell_type": "code",
   "execution_count": null,
   "metadata": {},
   "outputs": [],
   "source": [
    "## write your answer here!"
   ]
  },
  {
   "cell_type": "markdown",
   "metadata": {},
   "source": [
    "4\\.Through the initial trial of Tkinter,    please write a simple calculator.\n",
    "\n",
    "<div style=\"float:left;\" ><img src=\"img/p3.png\" width=\"180\" height=\"200\" center=\"left\"></div>\n",
    "<div style=\"float:left;\" ><img src=\"img/p4.png\" width=\"180\" height=\"200\" center=\"right\" ></div>"
   ]
  },
  {
   "cell_type": "code",
   "execution_count": null,
   "metadata": {},
   "outputs": [],
   "source": [
    "## write your answer here!"
   ]
  },
  {
   "cell_type": "markdown",
   "metadata": {},
   "source": [
    "5\\.Ball game:Python's pinball game, which can realize the game function of the keyboard control bottom baffle moving collision ball similar to table tennis game. \n",
    "\n",
    "<div style=\"float:left;\" ><img src=\"img/p5.png\" width=\"200\" height=\"200\" center=\"left\"></div>\n",
    "<div style=\"float:left;\" ><img src=\"img/p6.png\" width=\"200\" height=\"200\" center=\"right\" ></div>\n"
   ]
  },
  {
   "cell_type": "markdown",
   "metadata": {},
   "source": [
    "this is a step:how to install the matplotlib,you can reference this link:https://blog.csdn.net/not_give_up_/article/details/79058272\n",
    "1. Ball Class\n",
    "    draw is responsible for moving Ball\n",
    "    Collision detection, bounce, Ball detection of Paddle \n",
    "2. Paddle Class\n",
    "    draw is responsible for moving Paddle\n",
    "    Collision detection to determine whether or not to continue ,Monitor keyboard events\n",
    "3. main cycle\n",
    "    Drawing the Ball and Paddle"
   ]
  },
  {
   "cell_type": "code",
   "execution_count": null,
   "metadata": {},
   "outputs": [],
   "source": [
    "## write your answer here!"
   ]
  }
 ],
 "metadata": {
  "kernelspec": {
   "display_name": "Python 3",
   "language": "python",
   "name": "python3"
  },
  "language_info": {
   "codemirror_mode": {
    "name": "ipython",
    "version": 3
   },
   "file_extension": ".py",
   "mimetype": "text/x-python",
   "name": "python",
   "nbconvert_exporter": "python",
   "pygments_lexer": "ipython3",
   "version": "3.6.5"
  }
 },
 "nbformat": 4,
 "nbformat_minor": 2
}
